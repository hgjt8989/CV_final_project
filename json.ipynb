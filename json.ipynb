{
 "cells": [
  {
   "cell_type": "code",
   "execution_count": 2,
   "metadata": {
    "collapsed": true
   },
   "outputs": [],
   "source": [
    "import json, os\n",
    "from shutil import copyfile"
   ]
  },
  {
   "cell_type": "code",
   "execution_count": 8,
   "metadata": {
    "collapsed": true
   },
   "outputs": [],
   "source": [
    "# this is the code of Mohammed & Romain to create json file for IEP model\n",
    "for split in ['train','test']:\n",
    "    questions = {\"info\": None, \"questions\": []}\n",
    "    question_count = 0\n",
    "\n",
    "    for file in os.listdir(split):\n",
    "        if file.endswith('.txt'):\n",
    "            with open(os.path.join(split, file)) as f:\n",
    "                #print file\n",
    "                lines = f.readlines()\n",
    "                lines = map(lambda l: l.strip('\\n').split('\\t'), lines)\n",
    "                for line in lines:\n",
    "                    questions[\"questions\"].append(\n",
    "                        {\n",
    "                            \"image_index\": int(file.replace('.txt', '')),\n",
    "                            \"split\": split,\n",
    "                            \"image_filename\": file.replace('.txt', '.jpg'),\n",
    "                            \"question_index\": question_count,\n",
    "                            \"question\": line[0],\n",
    "                            \"answer\": line[1].strip(' ')\n",
    "                        }\n",
    "                    )\n",
    "                    question_count += 1\n",
    "\n",
    "    with open('{}_questions.json'.format(split), 'w') as outfile:\n",
    "        json.dump(questions, outfile)"
   ]
  },
  {
   "cell_type": "code",
   "execution_count": null,
   "metadata": {
    "collapsed": true
   },
   "outputs": [],
   "source": []
  },
  {
   "cell_type": "code",
   "execution_count": 34,
   "metadata": {
    "collapsed": true
   },
   "outputs": [],
   "source": [
    "#rename the files\n",
    "i = 0\n",
    "di = 'train'\n",
    "toFolder = 'share'\n",
    "for name in os.listdir(di):    #os.listdir('.')遍历文件夹内的每个文件名，并返回一个包含文件名的list\n",
    "    if i%2 == 0:\n",
    "        newname = '0'*(6-len(str(i/2)))+ str(i/2)+'.jpg'\n",
    "    else:\n",
    "        newname = '0'*(6-len(str(i/2)))+ str(i/2)+'.txt'\n",
    "    \n",
    "    os.rename(di+ '/' + name, di+ '/' + newname)\n",
    "    #copyfile(di+'/'+name,toFolder+'/'+newname)\n",
    "    i = i + 1"
   ]
  },
  {
   "cell_type": "code",
   "execution_count": null,
   "metadata": {
    "collapsed": true
   },
   "outputs": [],
   "source": []
  }
 ],
 "metadata": {
  "kernelspec": {
   "display_name": "Python 2",
   "language": "python",
   "name": "python2"
  },
  "language_info": {
   "codemirror_mode": {
    "name": "ipython",
    "version": 2
   },
   "file_extension": ".py",
   "mimetype": "text/x-python",
   "name": "python",
   "nbconvert_exporter": "python",
   "pygments_lexer": "ipython2",
   "version": "2.7.13"
  }
 },
 "nbformat": 4,
 "nbformat_minor": 2
}
